{
  "nbformat": 4,
  "nbformat_minor": 0,
  "metadata": {
    "colab": {
      "name": "mnist-conv-0.01.ipynb",
      "provenance": [],
      "collapsed_sections": []
    },
    "kernelspec": {
      "name": "python3",
      "display_name": "Python 3"
    },
    "accelerator": "GPU"
  },
  "cells": [
    {
      "cell_type": "code",
      "metadata": {
        "colab": {
          "base_uri": "https://localhost:8080/"
        },
        "id": "Se-UcWCyfzs0",
        "outputId": "6cc159ab-9e27-4406-b220-254cbf75b71e"
      },
      "source": [
        "import torch\n",
        "from torch.nn.functional import cross_entropy\n",
        "from torch.utils.data import DataLoader\n",
        "import torchvision.datasets\n",
        "import torch.nn as nn\n",
        "from torchvision.transforms import ToTensor\n",
        "from os.path import expanduser\n",
        "import os\n",
        "\n",
        "loadSaveFile = False\n",
        "saveFile = expanduser(\"./mnist-save.dat\")\n",
        "\n",
        "dataFolder = expanduser(\".\")\n",
        "os.makedirs(dataFolder, exist_ok=True)\n",
        "\n",
        "\n",
        "train_ds = torchvision.datasets.MNIST(root=dataFolder, download=True, train=True, transform=ToTensor())\n",
        "test_ds = torchvision.datasets.MNIST(root=dataFolder, download=True, train=False, transform=ToTensor())\n",
        "\n",
        "train_dl = DataLoader(dataset=train_ds, batch_size=128, shuffle=True)\n",
        "test_dl = DataLoader(dataset=train_ds, batch_size=128)\n",
        "\n",
        "def convolution(inChannels, outChannels, useMaxPool=False):\n",
        "    conv = nn.Conv2d(inChannels, outChannels, kernel_size=3, padding=1)\n",
        "    bn = nn.BatchNorm2d(num_features=outChannels)\n",
        "    relu = nn.ReLU()\n",
        "\n",
        "    if useMaxPool:\n",
        "        return nn.Sequential(conv, bn, relu, nn.MaxPool2d(2))\n",
        "    else:\n",
        "        return nn.Sequential(conv, bn, relu)\n",
        "\n",
        "class MnistDataset(nn.Module):\n",
        "    def __init__(self):\n",
        "        super(MnistDataset, self).__init__()\n",
        "        self.initLayer = convolution(1, 32, True) # 14x14\n",
        "        self.conv1 = nn.Sequential(convolution(32, 32), convolution(32, 32))\n",
        "        self.middleLayer = convolution(32, 64, True) # 7x7\n",
        "        self.conv2 = nn.Sequential(convolution(64, 64), convolution(64, 64))\n",
        "        self.classifier = nn.Sequential(\n",
        "            nn.MaxPool2d(7),\n",
        "            nn.Flatten(),\n",
        "            nn.Dropout(0.2),\n",
        "            nn.Linear(64, 10)\n",
        "        )\n",
        "\n",
        "    def forward(self, x):\n",
        "        out = self.initLayer(x)\n",
        "        out = self.conv1(out) + out\n",
        "        out = self.middleLayer(out)\n",
        "        out = self.conv2(out) + out\n",
        "        return self.classifier(out)\n",
        "\n",
        "\n",
        "def getDefaultDevice():\n",
        "    if torch.cuda.is_available():\n",
        "        return torch.device(\"cuda\")\n",
        "    else:\n",
        "        return torch.device(\"cpu\")\n",
        "\n",
        "\n",
        "device = getDefaultDevice()\n",
        "print(\"device=\", device)\n",
        "\n",
        "def toDevice(data, device):\n",
        "    if isinstance(data, list):\n",
        "        return [toDevice(d, device) for d in data]\n",
        "    else:\n",
        "        return data.to(device)\n",
        "\n",
        "class DeviceDataLoader:\n",
        "    def __init__(self, device, dataLoader):\n",
        "        self.device = device\n",
        "        self.dataLoader = dataLoader\n",
        "\n",
        "    def __len__(self):\n",
        "        return len(self.dataLoader)\n",
        "\n",
        "    def __iter__(self):\n",
        "        for d in self.dataLoader:\n",
        "            yield toDevice(d, self.device)\n",
        "\n",
        "\n",
        "train_dl = DeviceDataLoader(device, train_dl)\n",
        "test_dl = DeviceDataLoader(device, test_dl)\n",
        "\n",
        "numEpoch = 20\n",
        "model = MnistDataset()\n",
        "model.to(device)\n",
        "\n",
        "if loadSaveFile:\n",
        "    model.load_state_dict(torch.load(saveFile, map_location=device))\n"
      ],
      "execution_count": 1,
      "outputs": [
        {
          "output_type": "stream",
          "text": [
            "device= cuda\n"
          ],
          "name": "stdout"
        }
      ]
    },
    {
      "cell_type": "code",
      "metadata": {
        "colab": {
          "base_uri": "https://localhost:8080/"
        },
        "id": "YlM7MgMQTaZP",
        "outputId": "508dafe1-b60c-49b6-b41a-8d13f572e92c"
      },
      "source": [
        "optimizer = torch.optim.SGD(model.parameters(), lr=10e-4)\n",
        "scheduler = torch.optim.lr_scheduler.OneCycleLR(optimizer, 10e-2, epochs=numEpoch, steps_per_epoch=len(train_dl))\n",
        "\n",
        "\n",
        "\n",
        "def calculateAccuracy(yPredicted, y):\n",
        "    _, yMax = torch.max(yPredicted, dim=1)\n",
        "    return torch.tensor(torch.sum(yMax == y).item() / len(y))\n",
        "\n",
        "\n",
        "for epoch in range(numEpoch):\n",
        "    model.train()\n",
        "    i = 0\n",
        "    for x, y in train_dl:\n",
        "        optimizer.zero_grad()\n",
        "        yPredicted = model(x)\n",
        "        loss = cross_entropy(yPredicted, y)\n",
        "        loss.backward()\n",
        "        optimizer.step()\n",
        "        scheduler.step()\n",
        "        i = i + 1\n",
        "\n",
        "    model.eval()\n",
        "    losses = []\n",
        "    correct = 0\n",
        "    total = 0\n",
        "    for x, y in test_dl:\n",
        "        yPredicted = model(x)\n",
        "        loss = cross_entropy(yPredicted, y).detach()\n",
        "        losses.append(loss)\n",
        "\n",
        "        total += y.size(0)\n",
        "        _, yMax = torch.max(yPredicted, dim=1)\n",
        "        correct += (yMax == y).sum().item()\n",
        "    avgLoss = torch.stack(losses).mean()\n",
        "    accuracy = correct / total * 100\n",
        "    print(\"loss=\", avgLoss, \"acc=\", accuracy,\"%\")\n",
        "\n",
        "torch.save(model.state_dict(), saveFile)"
      ],
      "execution_count": 2,
      "outputs": [
        {
          "output_type": "stream",
          "text": [
            "loss= tensor(0.0932, device='cuda:0') acc= 97.23666666666666 %\n",
            "loss= tensor(0.1981, device='cuda:0') acc= 94.73166666666667 %\n",
            "loss= tensor(0.0349, device='cuda:0') acc= 98.91 %\n",
            "loss= tensor(0.0249, device='cuda:0') acc= 99.24833333333333 %\n",
            "loss= tensor(0.0294, device='cuda:0') acc= 99.14166666666667 %\n",
            "loss= tensor(0.0232, device='cuda:0') acc= 99.285 %\n",
            "loss= tensor(0.0203, device='cuda:0') acc= 99.39 %\n",
            "loss= tensor(0.0085, device='cuda:0') acc= 99.76333333333334 %\n",
            "loss= tensor(0.0088, device='cuda:0') acc= 99.71333333333334 %\n",
            "loss= tensor(0.0098, device='cuda:0') acc= 99.695 %\n",
            "loss= tensor(0.0109, device='cuda:0') acc= 99.65 %\n",
            "loss= tensor(0.0122, device='cuda:0') acc= 99.66000000000001 %\n",
            "loss= tensor(0.0160, device='cuda:0') acc= 99.50833333333333 %\n",
            "loss= tensor(0.0026, device='cuda:0') acc= 99.92666666666666 %\n",
            "loss= tensor(0.0015, device='cuda:0') acc= 99.96833333333333 %\n",
            "loss= tensor(0.0011, device='cuda:0') acc= 99.97 %\n",
            "loss= tensor(0.0007, device='cuda:0') acc= 99.98833333333333 %\n",
            "loss= tensor(0.0005, device='cuda:0') acc= 99.99 %\n",
            "loss= tensor(0.0005, device='cuda:0') acc= 99.99166666666667 %\n",
            "loss= tensor(0.0004, device='cuda:0') acc= 99.99166666666667 %\n"
          ],
          "name": "stdout"
        }
      ]
    },
    {
      "cell_type": "code",
      "metadata": {
        "colab": {
          "base_uri": "https://localhost:8080/",
          "height": 252
        },
        "id": "KhAdQI9oReyH",
        "outputId": "4a352ff0-7d74-41a5-ff50-ce6eedf3540e"
      },
      "source": [
        "import numpy as np\n",
        "import matplotlib.pyplot as plt\n",
        "%matplotlib inline\n",
        "\n",
        "width=8\n",
        "height=3\n",
        "plotX = 0\n",
        "plotY = 0\n",
        "\n",
        "f, axarr = plt.subplots(3,8)\n",
        "plt.setp(axarr, xticks=[],yticks=[])\n",
        "\n",
        "for x, y in test_dl:\n",
        "    yPredicted = model(x)\n",
        "    _, yMax = torch.max(yPredicted, dim=1)\n",
        "    for i, yCurrent in enumerate(yMax):\n",
        "      if yCurrent != y[i]:\n",
        "        axarr[plotY,plotX].imshow(x[i][0].cpu(), cmap=\"gray\")\n",
        "        label=str(yCurrent.item()) + \"!=\" + str(y[i].item())\n",
        "        axarr[plotY,plotX].set(xLabel=label)\n",
        "\n",
        "        plotX = plotX + 1\n",
        "        if plotX >= width:\n",
        "          plotY = plotY + 1\n",
        "          if plotY >= height:\n",
        "            break\n",
        "          plotX = 0\n",
        "    if plotY >= height:\n",
        "      break\n",
        "plt.show()"
      ],
      "execution_count": 4,
      "outputs": [
        {
          "output_type": "display_data",
          "data": {
            "image/png": "[encoded data removed]",
            "text/plain": [
              "<Figure size 432x288 with 24 Axes>"
            ]
          },
          "metadata": {
            "tags": []
          }
        }
      ]
    }
  ]
}